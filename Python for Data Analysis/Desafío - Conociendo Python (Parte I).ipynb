{
 "cells": [
  {
   "cell_type": "markdown",
   "id": "22b9bee0",
   "metadata": {},
   "source": [
    "Desafío - Conociendo Python (Parte I)"
   ]
  },
  {
   "cell_type": "code",
   "execution_count": 1,
   "id": "69d033b8",
   "metadata": {},
   "outputs": [],
   "source": [
    "#1. Calculando el salario semanal"
   ]
  },
  {
   "cell_type": "code",
   "execution_count": 2,
   "id": "86f989e9",
   "metadata": {},
   "outputs": [],
   "source": [
    "#Definición de variables: \n",
    "salario_base=500\n",
    "comision=0.10"
   ]
  },
  {
   "cell_type": "code",
   "execution_count": 3,
   "id": "b86eba5f",
   "metadata": {},
   "outputs": [
    {
     "name": "stdout",
     "output_type": "stream",
     "text": [
      "¿Cuánto has comisionado? 300\n"
     ]
    }
   ],
   "source": [
    "#Solicitud de información\n",
    "comisiones= int(input(\"¿Cuánto has comisionado? \"))"
   ]
  },
  {
   "cell_type": "code",
   "execution_count": 4,
   "id": "b3439d3f",
   "metadata": {},
   "outputs": [],
   "source": [
    "#Cálculo del salario total\n",
    "salario_total= salario_base+(comision*comisiones)"
   ]
  },
  {
   "cell_type": "code",
   "execution_count": 5,
   "id": "4691a00b",
   "metadata": {},
   "outputs": [
    {
     "name": "stdout",
     "output_type": "stream",
     "text": [
      "El  salario total es 530.0\n"
     ]
    }
   ],
   "source": [
    "#Imprimiendo resultado\n",
    "print(\"El  salario total es\", salario_total)"
   ]
  },
  {
   "cell_type": "code",
   "execution_count": 6,
   "id": "0124ef25",
   "metadata": {},
   "outputs": [],
   "source": [
    "#2. Bienvenido a la frutería virtual"
   ]
  },
  {
   "cell_type": "code",
   "execution_count": 7,
   "id": "8493715c",
   "metadata": {},
   "outputs": [],
   "source": [
    "#Creando el diccionario\n",
    "catalogo_frutas={\"fruta\":\"precio\"}"
   ]
  },
  {
   "cell_type": "code",
   "execution_count": 8,
   "id": "dac084fb",
   "metadata": {},
   "outputs": [],
   "source": [
    "#Agregar frutas y sus valores"
   ]
  },
  {
   "cell_type": "code",
   "execution_count": 9,
   "id": "1d859906",
   "metadata": {},
   "outputs": [],
   "source": [
    "catalogo_frutas[\"manzana\"]= 100"
   ]
  },
  {
   "cell_type": "code",
   "execution_count": 10,
   "id": "4a0c3aad",
   "metadata": {},
   "outputs": [],
   "source": [
    "catalogo_frutas[\"banana\"]= 80"
   ]
  },
  {
   "cell_type": "code",
   "execution_count": 11,
   "id": "ba0838bb",
   "metadata": {},
   "outputs": [],
   "source": [
    "catalogo_frutas[\"naranja\"]= 120"
   ]
  },
  {
   "cell_type": "code",
   "execution_count": 12,
   "id": "e7ed8764",
   "metadata": {},
   "outputs": [],
   "source": [
    "catalogo_frutas[\"piña\"]= 140"
   ]
  },
  {
   "cell_type": "code",
   "execution_count": 13,
   "id": "8d3a369b",
   "metadata": {},
   "outputs": [
    {
     "name": "stdout",
     "output_type": "stream",
     "text": [
      "{'fruta': 'precio', 'manzana': 100, 'banana': 80, 'naranja': 120, 'piña': 140}\n"
     ]
    }
   ],
   "source": [
    "#Revisar que todo esté en orden\n",
    "print(catalogo_frutas)"
   ]
  },
  {
   "cell_type": "code",
   "execution_count": 14,
   "id": "9315c2c6",
   "metadata": {},
   "outputs": [
    {
     "name": "stdout",
     "output_type": "stream",
     "text": [
      "¿Qué fruta buscas? manzana\n"
     ]
    }
   ],
   "source": [
    "fruta=input(\"¿Qué fruta buscas? \")"
   ]
  },
  {
   "cell_type": "code",
   "execution_count": 15,
   "id": "280c2cb1",
   "metadata": {},
   "outputs": [
    {
     "name": "stdout",
     "output_type": "stream",
     "text": [
      "100\n"
     ]
    }
   ],
   "source": [
    "print(catalogo_frutas.get(fruta,\"No se encuentra esa fruta en nuestra tienda\"))"
   ]
  },
  {
   "cell_type": "code",
   "execution_count": 16,
   "id": "f622b241",
   "metadata": {},
   "outputs": [],
   "source": [
    "#3. Bienvenido al casino"
   ]
  },
  {
   "cell_type": "code",
   "execution_count": 17,
   "id": "535e747f",
   "metadata": {},
   "outputs": [],
   "source": [
    "#Importando la librería \"random\"\n",
    "import random"
   ]
  },
  {
   "cell_type": "code",
   "execution_count": 18,
   "id": "70a296db",
   "metadata": {},
   "outputs": [],
   "source": [
    "#Creando el dado uno\n",
    "dado_uno= random.randint (1,6)"
   ]
  },
  {
   "cell_type": "code",
   "execution_count": 19,
   "id": "8ed47b92",
   "metadata": {},
   "outputs": [],
   "source": [
    "#Creando el dado dos\n",
    "dado_dos= random.randint (1,6)"
   ]
  },
  {
   "cell_type": "code",
   "execution_count": 20,
   "id": "7dfad11b",
   "metadata": {},
   "outputs": [
    {
     "name": "stdout",
     "output_type": "stream",
     "text": [
      "El valor del dado uno es 6\n"
     ]
    }
   ],
   "source": [
    "#Mostrar los valores obtenidos en cada dado\n",
    "print(f\"El valor del dado uno es {dado_uno}\")"
   ]
  },
  {
   "cell_type": "code",
   "execution_count": 21,
   "id": "53bb3a38",
   "metadata": {},
   "outputs": [
    {
     "name": "stdout",
     "output_type": "stream",
     "text": [
      "El valor del dado dos es 2\n"
     ]
    }
   ],
   "source": [
    "#Mostrar los valores obtenidos en cada dado\n",
    "print(f\"El valor del dado dos es {dado_dos}\")"
   ]
  },
  {
   "cell_type": "code",
   "execution_count": 22,
   "id": "e3f5efd5",
   "metadata": {},
   "outputs": [
    {
     "name": "stdout",
     "output_type": "stream",
     "text": [
      "8\n"
     ]
    }
   ],
   "source": [
    "#Suma de ambos valores\n",
    "print(dado_uno + dado_dos)"
   ]
  },
  {
   "cell_type": "code",
   "execution_count": 23,
   "id": "d358b40f",
   "metadata": {},
   "outputs": [],
   "source": [
    "#4.Calculadora de chocolate"
   ]
  },
  {
   "cell_type": "code",
   "execution_count": 24,
   "id": "6bd72241",
   "metadata": {},
   "outputs": [
    {
     "name": "stdout",
     "output_type": "stream",
     "text": [
      "Establece el límite diario de kcal 2000\n"
     ]
    }
   ],
   "source": [
    "#Preguntar al usuario su límite diario de calorías\n",
    "limite_calorias=int(input(\"Establece el límite diario de kcal \"))"
   ]
  },
  {
   "cell_type": "code",
   "execution_count": 25,
   "id": "1fb6801f",
   "metadata": {},
   "outputs": [
    {
     "name": "stdout",
     "output_type": "stream",
     "text": [
      "Indica las kcal por porción 110\n"
     ]
    }
   ],
   "source": [
    "#Preguntar al usuario la cantidad de calorías que tiene una porción de chocolate\n",
    "kcal_porcion_chocolate=int(input(\"Indica las kcal por porción \"))"
   ]
  },
  {
   "cell_type": "code",
   "execution_count": 26,
   "id": "9db66b32",
   "metadata": {},
   "outputs": [],
   "source": [
    "#Calcular la cantidad máxima de chocolate que se puede comer sin exceder el límite diario de calorías\n",
    "cantidad_maxima=int(limite_calorias / kcal_porcion_chocolate)"
   ]
  },
  {
   "cell_type": "code",
   "execution_count": 27,
   "id": "6c6bd5b2",
   "metadata": {},
   "outputs": [
    {
     "name": "stdout",
     "output_type": "stream",
     "text": [
      "El número máximo de porciones de chocolate que puedes comer es 18.\n"
     ]
    }
   ],
   "source": [
    "#Entregar resultado\n",
    "print(f\"El número máximo de porciones de chocolate que puedes comer es {cantidad_maxima}.\")"
   ]
  }
 ],
 "metadata": {
  "kernelspec": {
   "display_name": "Python 3 (ipykernel)",
   "language": "python",
   "name": "python3"
  },
  "language_info": {
   "codemirror_mode": {
    "name": "ipython",
    "version": 3
   },
   "file_extension": ".py",
   "mimetype": "text/x-python",
   "name": "python",
   "nbconvert_exporter": "python",
   "pygments_lexer": "ipython3",
   "version": "3.11.3"
  }
 },
 "nbformat": 4,
 "nbformat_minor": 5
}
