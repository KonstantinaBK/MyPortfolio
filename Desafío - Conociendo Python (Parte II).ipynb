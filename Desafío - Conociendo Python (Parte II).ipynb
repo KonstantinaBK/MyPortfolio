{
 "cells": [
  {
   "cell_type": "code",
   "execution_count": null,
   "id": "2b14bbee",
   "metadata": {},
   "outputs": [],
   "source": [
    "#1. Ejercicio 1: Suma de números pares"
   ]
  },
  {
   "cell_type": "code",
   "execution_count": 28,
   "id": "cbb30dae",
   "metadata": {},
   "outputs": [
    {
     "name": "stdout",
     "output_type": "stream",
     "text": [
      "Ingrese el primer número: 2\n",
      "Ingrese el segundo número: 10\n",
      "La suma de los números pares es:  20\n"
     ]
    }
   ],
   "source": [
    "num_uno = int(input(\"Ingrese el primer número: \"))\n",
    "num_dos = int(input(\"Ingrese el segundo número: \"))\n",
    "rango= range(num_uno, num_dos)\n",
    "pares = [num for num in rango if num % 2 == 0]\n",
    "suma=0\n",
    "\n",
    "for elemento in pares:\n",
    "    suma += elemento\n",
    "print(\"La suma de los números pares es: \" , suma)\n"
   ]
  },
  {
   "cell_type": "code",
   "execution_count": null,
   "id": "33bd7b5b",
   "metadata": {},
   "outputs": [],
   "source": [
    "#2. Ejercicio 2: Calculadora de áreas"
   ]
  },
  {
   "cell_type": "code",
   "execution_count": 1,
   "id": "371c7ff8",
   "metadata": {},
   "outputs": [],
   "source": [
    "import math"
   ]
  },
  {
   "cell_type": "code",
   "execution_count": 3,
   "id": "ae2c14f7",
   "metadata": {},
   "outputs": [
    {
     "name": "stdout",
     "output_type": "stream",
     "text": [
      "Ingrese figura geométrica (cuadrado, triangulo o circulo): circulo\n",
      "Ingrese el radio del círculo, en centímetros: 8\n",
      "El área del círculo es:  201.06 centímetros.\n"
     ]
    }
   ],
   "source": [
    "figura = input(\"Ingrese figura geométrica (cuadrado, triangulo o circulo): \")\n",
    "if figura ==\"cuadrado\":\n",
    "    lado = int(input(\"Ingrese medida del lado del cuadrado, en centímetros: \"))\n",
    "    area = lado * lado\n",
    "    print(\"El área del cuadrado es: \" , area , \"cms^2\")\n",
    "\n",
    "elif figura ==\"triangulo\":\n",
    "    base = int(input(\"Ingrese la base del tríangulo, en centímetros: \"))\n",
    "    altura = int(input(\"Ingrese la altura del tríangulo, en centímetros: \"))\n",
    "    primer_calculo = base * altura\n",
    "    area = primer_calculo / 2\n",
    "    print(\"El área del triángulo es: \" , area , \"centímetros.\")\n",
    "    \n",
    "elif figura ==\"circulo\":\n",
    "    pi = math.pi\n",
    "    radio = int(input(\"Ingrese el radio del círculo, en centímetros: \"))\n",
    "    radio_cuadrado= radio**2\n",
    "    area = round(pi * radio_cuadrado, 2)\n",
    "    print(\"El área del círculo es: \" , area , \"centímetros.\")\n",
    "    \n",
    "else: \n",
    "    print(\"Ingresar una figura válida.\")"
   ]
  },
  {
   "cell_type": "code",
   "execution_count": null,
   "id": "787b6b38",
   "metadata": {},
   "outputs": [],
   "source": [
    "#3. Ejercicio 3: Adivina el número"
   ]
  },
  {
   "cell_type": "code",
   "execution_count": 4,
   "id": "e3b8316d",
   "metadata": {},
   "outputs": [],
   "source": [
    "import random"
   ]
  },
  {
   "cell_type": "code",
   "execution_count": 7,
   "id": "34b3c67c",
   "metadata": {},
   "outputs": [
    {
     "name": "stdout",
     "output_type": "stream",
     "text": [
      "Ingresa un número: 1\n",
      "El número es mayor\n",
      "Ingresa un número: 50\n",
      "El número es mayor\n",
      "Ingresa un número: 60\n",
      "El número es mayor\n",
      "Ingresa un número: 70\n",
      "El número es menor\n",
      "Ingresa un número: 69\n",
      "El número es menor\n",
      "Ingresa un número: 68\n",
      "El número es menor\n",
      "Ingresa un número: 67\n",
      "El número es menor\n",
      "Ingresa un número: 66\n",
      "El número es menor\n",
      "Ingresa un número: 65\n",
      "¡Has adivinado!\n"
     ]
    }
   ],
   "source": [
    "numero_aleatorio = random.randint(1, 100)\n",
    "\n",
    "while True:\n",
    "    respuesta = int(input(\"Ingresa un número: \"))\n",
    "    if respuesta < numero_aleatorio:\n",
    "        print(\"El número es mayor\")\n",
    "    if respuesta > numero_aleatorio:\n",
    "        print(\"El número es menor\")\n",
    "    if respuesta == numero_aleatorio:\n",
    "        print(f\"¡Has adivinado!\")\n",
    "        break"
   ]
  },
  {
   "cell_type": "code",
   "execution_count": null,
   "id": "64739d21",
   "metadata": {},
   "outputs": [],
   "source": [
    "#4. Ejercicio 4: ¡Maratón de caracoles!"
   ]
  },
  {
   "cell_type": "code",
   "execution_count": null,
   "id": "e87189b0",
   "metadata": {},
   "outputs": [],
   "source": [
    "#El caracol comienza en la línea de partida, y avanza a una velocidad constante, definida por el usuario."
   ]
  },
  {
   "cell_type": "code",
   "execution_count": 27,
   "id": "0e577712",
   "metadata": {},
   "outputs": [
    {
     "name": "stdout",
     "output_type": "stream",
     "text": [
      "Ingresa la velocidad a la que quieres que se mueva el caracol: 8\n",
      "🐌\n",
      "________🐌\n",
      "________________🐌\n",
      "________________________🐌\n",
      "________________________________🐌\n",
      "________________________________________🐌\n",
      "________________________________________________🐌\n",
      "________________________________________________________🐌\n",
      "________________________________________________________________🐌\n",
      "________________________________________________________________________🐌\n"
     ]
    }
   ],
   "source": [
    "maraton = \"\"\n",
    "velocidad= int(input(\"Ingresa la velocidad a la que quieres que se mueva el caracol: \"))\n",
    "carrera = maraton\n",
    "contador = 1\n",
    "print(\"\\N{snail}\")\n",
    "\n",
    "while contador < 10:\n",
    "    carrera+=\"_\"*velocidad\n",
    "    contador += 1\n",
    "    print(carrera+\"\\N{snail}\")"
   ]
  }
 ],
 "metadata": {
  "kernelspec": {
   "display_name": "Python 3 (ipykernel)",
   "language": "python",
   "name": "python3"
  },
  "language_info": {
   "codemirror_mode": {
    "name": "ipython",
    "version": 3
   },
   "file_extension": ".py",
   "mimetype": "text/x-python",
   "name": "python",
   "nbconvert_exporter": "python",
   "pygments_lexer": "ipython3",
   "version": "3.11.3"
  }
 },
 "nbformat": 4,
 "nbformat_minor": 5
}
