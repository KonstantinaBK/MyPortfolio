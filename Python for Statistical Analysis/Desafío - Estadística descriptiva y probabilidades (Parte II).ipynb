{
 "cells": [
  {
   "cell_type": "code",
   "execution_count": 524,
   "id": "e569e8a4",
   "metadata": {},
   "outputs": [],
   "source": [
    "#Importo las librerías. \n",
    "import pandas as pd\n",
    "import numpy as np"
   ]
  },
  {
   "cell_type": "code",
   "execution_count": 525,
   "id": "0c7ef2ac",
   "metadata": {
    "scrolled": true
   },
   "outputs": [
    {
     "data": {
      "text/html": [
       "<div>\n",
       "<style scoped>\n",
       "    .dataframe tbody tr th:only-of-type {\n",
       "        vertical-align: middle;\n",
       "    }\n",
       "\n",
       "    .dataframe tbody tr th {\n",
       "        vertical-align: top;\n",
       "    }\n",
       "\n",
       "    .dataframe thead th {\n",
       "        text-align: right;\n",
       "    }\n",
       "</style>\n",
       "<table border=\"1\" class=\"dataframe\">\n",
       "  <thead>\n",
       "    <tr style=\"text-align: right;\">\n",
       "      <th></th>\n",
       "      <th>team</th>\n",
       "      <th>continent</th>\n",
       "      <th>group</th>\n",
       "      <th>group_pos</th>\n",
       "      <th>cantidad_juegos</th>\n",
       "      <th>juegos_ganados</th>\n",
       "      <th>juegos_empatados</th>\n",
       "      <th>juegos_perdidos</th>\n",
       "      <th>goles_favor</th>\n",
       "      <th>goles_contra</th>\n",
       "      <th>goles_diferencia</th>\n",
       "      <th>puntos</th>\n",
       "      <th>clasificado</th>\n",
       "    </tr>\n",
       "  </thead>\n",
       "  <tbody>\n",
       "    <tr>\n",
       "      <th>0</th>\n",
       "      <td>Brazil</td>\n",
       "      <td>southamerica</td>\n",
       "      <td>A</td>\n",
       "      <td>1</td>\n",
       "      <td>3</td>\n",
       "      <td>2</td>\n",
       "      <td>1</td>\n",
       "      <td>0</td>\n",
       "      <td>7</td>\n",
       "      <td>2</td>\n",
       "      <td>5</td>\n",
       "      <td>7</td>\n",
       "      <td>1</td>\n",
       "    </tr>\n",
       "    <tr>\n",
       "      <th>1</th>\n",
       "      <td>Mexico</td>\n",
       "      <td>northamerica</td>\n",
       "      <td>A</td>\n",
       "      <td>2</td>\n",
       "      <td>3</td>\n",
       "      <td>2</td>\n",
       "      <td>1</td>\n",
       "      <td>0</td>\n",
       "      <td>4</td>\n",
       "      <td>1</td>\n",
       "      <td>3</td>\n",
       "      <td>7</td>\n",
       "      <td>1</td>\n",
       "    </tr>\n",
       "    <tr>\n",
       "      <th>2</th>\n",
       "      <td>Croatia</td>\n",
       "      <td>europe</td>\n",
       "      <td>A</td>\n",
       "      <td>3</td>\n",
       "      <td>3</td>\n",
       "      <td>1</td>\n",
       "      <td>0</td>\n",
       "      <td>2</td>\n",
       "      <td>6</td>\n",
       "      <td>6</td>\n",
       "      <td>0</td>\n",
       "      <td>3</td>\n",
       "      <td>0</td>\n",
       "    </tr>\n",
       "    <tr>\n",
       "      <th>3</th>\n",
       "      <td>Cameroon</td>\n",
       "      <td>africa</td>\n",
       "      <td>A</td>\n",
       "      <td>4</td>\n",
       "      <td>3</td>\n",
       "      <td>0</td>\n",
       "      <td>0</td>\n",
       "      <td>3</td>\n",
       "      <td>1</td>\n",
       "      <td>9</td>\n",
       "      <td>−8</td>\n",
       "      <td>0</td>\n",
       "      <td>0</td>\n",
       "    </tr>\n",
       "    <tr>\n",
       "      <th>4</th>\n",
       "      <td>Netherlands</td>\n",
       "      <td>europe</td>\n",
       "      <td>B</td>\n",
       "      <td>1</td>\n",
       "      <td>3</td>\n",
       "      <td>3</td>\n",
       "      <td>0</td>\n",
       "      <td>0</td>\n",
       "      <td>10</td>\n",
       "      <td>3</td>\n",
       "      <td>7</td>\n",
       "      <td>9</td>\n",
       "      <td>1</td>\n",
       "    </tr>\n",
       "    <tr>\n",
       "      <th>5</th>\n",
       "      <td>Chile</td>\n",
       "      <td>southamerica</td>\n",
       "      <td>B</td>\n",
       "      <td>2</td>\n",
       "      <td>3</td>\n",
       "      <td>2</td>\n",
       "      <td>0</td>\n",
       "      <td>1</td>\n",
       "      <td>5</td>\n",
       "      <td>3</td>\n",
       "      <td>2</td>\n",
       "      <td>6</td>\n",
       "      <td>1</td>\n",
       "    </tr>\n",
       "    <tr>\n",
       "      <th>6</th>\n",
       "      <td>Spain</td>\n",
       "      <td>europe</td>\n",
       "      <td>B</td>\n",
       "      <td>3</td>\n",
       "      <td>3</td>\n",
       "      <td>1</td>\n",
       "      <td>0</td>\n",
       "      <td>2</td>\n",
       "      <td>4</td>\n",
       "      <td>7</td>\n",
       "      <td>−3</td>\n",
       "      <td>3</td>\n",
       "      <td>0</td>\n",
       "    </tr>\n",
       "    <tr>\n",
       "      <th>7</th>\n",
       "      <td>Australia</td>\n",
       "      <td>asia</td>\n",
       "      <td>B</td>\n",
       "      <td>4</td>\n",
       "      <td>3</td>\n",
       "      <td>0</td>\n",
       "      <td>0</td>\n",
       "      <td>3</td>\n",
       "      <td>3</td>\n",
       "      <td>9</td>\n",
       "      <td>−6</td>\n",
       "      <td>0</td>\n",
       "      <td>0</td>\n",
       "    </tr>\n",
       "    <tr>\n",
       "      <th>8</th>\n",
       "      <td>Colombia</td>\n",
       "      <td>southamerica</td>\n",
       "      <td>C</td>\n",
       "      <td>1</td>\n",
       "      <td>3</td>\n",
       "      <td>3</td>\n",
       "      <td>0</td>\n",
       "      <td>0</td>\n",
       "      <td>9</td>\n",
       "      <td>2</td>\n",
       "      <td>7</td>\n",
       "      <td>9</td>\n",
       "      <td>1</td>\n",
       "    </tr>\n",
       "    <tr>\n",
       "      <th>9</th>\n",
       "      <td>Greece</td>\n",
       "      <td>europe</td>\n",
       "      <td>C</td>\n",
       "      <td>2</td>\n",
       "      <td>3</td>\n",
       "      <td>1</td>\n",
       "      <td>1</td>\n",
       "      <td>1</td>\n",
       "      <td>2</td>\n",
       "      <td>4</td>\n",
       "      <td>−2</td>\n",
       "      <td>4</td>\n",
       "      <td>1</td>\n",
       "    </tr>\n",
       "    <tr>\n",
       "      <th>10</th>\n",
       "      <td>Ivory Coast</td>\n",
       "      <td>africa</td>\n",
       "      <td>C</td>\n",
       "      <td>3</td>\n",
       "      <td>3</td>\n",
       "      <td>1</td>\n",
       "      <td>0</td>\n",
       "      <td>2</td>\n",
       "      <td>4</td>\n",
       "      <td>5</td>\n",
       "      <td>−1</td>\n",
       "      <td>3</td>\n",
       "      <td>0</td>\n",
       "    </tr>\n",
       "    <tr>\n",
       "      <th>11</th>\n",
       "      <td>Japan</td>\n",
       "      <td>asia</td>\n",
       "      <td>C</td>\n",
       "      <td>4</td>\n",
       "      <td>3</td>\n",
       "      <td>0</td>\n",
       "      <td>1</td>\n",
       "      <td>2</td>\n",
       "      <td>2</td>\n",
       "      <td>6</td>\n",
       "      <td>−4</td>\n",
       "      <td>1</td>\n",
       "      <td>0</td>\n",
       "    </tr>\n",
       "    <tr>\n",
       "      <th>12</th>\n",
       "      <td>Costa Rica</td>\n",
       "      <td>northamerica</td>\n",
       "      <td>D</td>\n",
       "      <td>1</td>\n",
       "      <td>3</td>\n",
       "      <td>2</td>\n",
       "      <td>1</td>\n",
       "      <td>0</td>\n",
       "      <td>4</td>\n",
       "      <td>1</td>\n",
       "      <td>3</td>\n",
       "      <td>7</td>\n",
       "      <td>1</td>\n",
       "    </tr>\n",
       "    <tr>\n",
       "      <th>13</th>\n",
       "      <td>Uruguay</td>\n",
       "      <td>southamerica</td>\n",
       "      <td>D</td>\n",
       "      <td>2</td>\n",
       "      <td>3</td>\n",
       "      <td>2</td>\n",
       "      <td>0</td>\n",
       "      <td>1</td>\n",
       "      <td>4</td>\n",
       "      <td>4</td>\n",
       "      <td>0</td>\n",
       "      <td>6</td>\n",
       "      <td>1</td>\n",
       "    </tr>\n",
       "    <tr>\n",
       "      <th>14</th>\n",
       "      <td>Italy</td>\n",
       "      <td>europe</td>\n",
       "      <td>D</td>\n",
       "      <td>3</td>\n",
       "      <td>3</td>\n",
       "      <td>1</td>\n",
       "      <td>0</td>\n",
       "      <td>2</td>\n",
       "      <td>2</td>\n",
       "      <td>3</td>\n",
       "      <td>−1</td>\n",
       "      <td>3</td>\n",
       "      <td>0</td>\n",
       "    </tr>\n",
       "    <tr>\n",
       "      <th>15</th>\n",
       "      <td>England</td>\n",
       "      <td>europe</td>\n",
       "      <td>D</td>\n",
       "      <td>4</td>\n",
       "      <td>3</td>\n",
       "      <td>0</td>\n",
       "      <td>1</td>\n",
       "      <td>2</td>\n",
       "      <td>2</td>\n",
       "      <td>4</td>\n",
       "      <td>−2</td>\n",
       "      <td>1</td>\n",
       "      <td>0</td>\n",
       "    </tr>\n",
       "    <tr>\n",
       "      <th>16</th>\n",
       "      <td>France</td>\n",
       "      <td>europe</td>\n",
       "      <td>E</td>\n",
       "      <td>1</td>\n",
       "      <td>3</td>\n",
       "      <td>2</td>\n",
       "      <td>1</td>\n",
       "      <td>0</td>\n",
       "      <td>8</td>\n",
       "      <td>2</td>\n",
       "      <td>6</td>\n",
       "      <td>7</td>\n",
       "      <td>1</td>\n",
       "    </tr>\n",
       "    <tr>\n",
       "      <th>17</th>\n",
       "      <td>Switzerland</td>\n",
       "      <td>europe</td>\n",
       "      <td>E</td>\n",
       "      <td>2</td>\n",
       "      <td>3</td>\n",
       "      <td>2</td>\n",
       "      <td>0</td>\n",
       "      <td>1</td>\n",
       "      <td>7</td>\n",
       "      <td>6</td>\n",
       "      <td>1</td>\n",
       "      <td>6</td>\n",
       "      <td>1</td>\n",
       "    </tr>\n",
       "    <tr>\n",
       "      <th>18</th>\n",
       "      <td>Ecuador</td>\n",
       "      <td>southamerica</td>\n",
       "      <td>E</td>\n",
       "      <td>3</td>\n",
       "      <td>3</td>\n",
       "      <td>1</td>\n",
       "      <td>1</td>\n",
       "      <td>1</td>\n",
       "      <td>3</td>\n",
       "      <td>3</td>\n",
       "      <td>0</td>\n",
       "      <td>4</td>\n",
       "      <td>0</td>\n",
       "    </tr>\n",
       "    <tr>\n",
       "      <th>19</th>\n",
       "      <td>Honduras</td>\n",
       "      <td>northamerica</td>\n",
       "      <td>E</td>\n",
       "      <td>4</td>\n",
       "      <td>3</td>\n",
       "      <td>0</td>\n",
       "      <td>0</td>\n",
       "      <td>3</td>\n",
       "      <td>1</td>\n",
       "      <td>8</td>\n",
       "      <td>−7</td>\n",
       "      <td>0</td>\n",
       "      <td>0</td>\n",
       "    </tr>\n",
       "    <tr>\n",
       "      <th>20</th>\n",
       "      <td>Argentina</td>\n",
       "      <td>southamerica</td>\n",
       "      <td>F</td>\n",
       "      <td>1</td>\n",
       "      <td>3</td>\n",
       "      <td>3</td>\n",
       "      <td>0</td>\n",
       "      <td>0</td>\n",
       "      <td>6</td>\n",
       "      <td>3</td>\n",
       "      <td>3</td>\n",
       "      <td>9</td>\n",
       "      <td>1</td>\n",
       "    </tr>\n",
       "    <tr>\n",
       "      <th>21</th>\n",
       "      <td>Nigeria</td>\n",
       "      <td>africa</td>\n",
       "      <td>F</td>\n",
       "      <td>2</td>\n",
       "      <td>3</td>\n",
       "      <td>1</td>\n",
       "      <td>1</td>\n",
       "      <td>1</td>\n",
       "      <td>3</td>\n",
       "      <td>3</td>\n",
       "      <td>0</td>\n",
       "      <td>4</td>\n",
       "      <td>1</td>\n",
       "    </tr>\n",
       "    <tr>\n",
       "      <th>22</th>\n",
       "      <td>Bosnia and Herzegovina</td>\n",
       "      <td>europe</td>\n",
       "      <td>F</td>\n",
       "      <td>3</td>\n",
       "      <td>3</td>\n",
       "      <td>1</td>\n",
       "      <td>0</td>\n",
       "      <td>2</td>\n",
       "      <td>4</td>\n",
       "      <td>4</td>\n",
       "      <td>0</td>\n",
       "      <td>3</td>\n",
       "      <td>0</td>\n",
       "    </tr>\n",
       "    <tr>\n",
       "      <th>23</th>\n",
       "      <td>Iran</td>\n",
       "      <td>asia</td>\n",
       "      <td>F</td>\n",
       "      <td>4</td>\n",
       "      <td>3</td>\n",
       "      <td>0</td>\n",
       "      <td>1</td>\n",
       "      <td>2</td>\n",
       "      <td>1</td>\n",
       "      <td>4</td>\n",
       "      <td>−3</td>\n",
       "      <td>1</td>\n",
       "      <td>0</td>\n",
       "    </tr>\n",
       "    <tr>\n",
       "      <th>24</th>\n",
       "      <td>Germany</td>\n",
       "      <td>europe</td>\n",
       "      <td>G</td>\n",
       "      <td>1</td>\n",
       "      <td>3</td>\n",
       "      <td>2</td>\n",
       "      <td>1</td>\n",
       "      <td>0</td>\n",
       "      <td>7</td>\n",
       "      <td>2</td>\n",
       "      <td>5</td>\n",
       "      <td>7</td>\n",
       "      <td>1</td>\n",
       "    </tr>\n",
       "    <tr>\n",
       "      <th>25</th>\n",
       "      <td>United States</td>\n",
       "      <td>northamerica</td>\n",
       "      <td>G</td>\n",
       "      <td>2</td>\n",
       "      <td>3</td>\n",
       "      <td>1</td>\n",
       "      <td>1</td>\n",
       "      <td>1</td>\n",
       "      <td>4</td>\n",
       "      <td>4</td>\n",
       "      <td>0</td>\n",
       "      <td>4</td>\n",
       "      <td>1</td>\n",
       "    </tr>\n",
       "    <tr>\n",
       "      <th>26</th>\n",
       "      <td>Portugal</td>\n",
       "      <td>europe</td>\n",
       "      <td>G</td>\n",
       "      <td>3</td>\n",
       "      <td>3</td>\n",
       "      <td>1</td>\n",
       "      <td>1</td>\n",
       "      <td>1</td>\n",
       "      <td>4</td>\n",
       "      <td>7</td>\n",
       "      <td>−3</td>\n",
       "      <td>4</td>\n",
       "      <td>0</td>\n",
       "    </tr>\n",
       "    <tr>\n",
       "      <th>27</th>\n",
       "      <td>Ghana</td>\n",
       "      <td>africa</td>\n",
       "      <td>G</td>\n",
       "      <td>4</td>\n",
       "      <td>3</td>\n",
       "      <td>0</td>\n",
       "      <td>1</td>\n",
       "      <td>2</td>\n",
       "      <td>4</td>\n",
       "      <td>6</td>\n",
       "      <td>−2</td>\n",
       "      <td>1</td>\n",
       "      <td>0</td>\n",
       "    </tr>\n",
       "    <tr>\n",
       "      <th>28</th>\n",
       "      <td>Belgium</td>\n",
       "      <td>europe</td>\n",
       "      <td>H</td>\n",
       "      <td>1</td>\n",
       "      <td>3</td>\n",
       "      <td>3</td>\n",
       "      <td>0</td>\n",
       "      <td>0</td>\n",
       "      <td>4</td>\n",
       "      <td>1</td>\n",
       "      <td>3</td>\n",
       "      <td>9</td>\n",
       "      <td>1</td>\n",
       "    </tr>\n",
       "    <tr>\n",
       "      <th>29</th>\n",
       "      <td>Algeria</td>\n",
       "      <td>africa</td>\n",
       "      <td>H</td>\n",
       "      <td>2</td>\n",
       "      <td>3</td>\n",
       "      <td>1</td>\n",
       "      <td>1</td>\n",
       "      <td>1</td>\n",
       "      <td>6</td>\n",
       "      <td>5</td>\n",
       "      <td>1</td>\n",
       "      <td>4</td>\n",
       "      <td>1</td>\n",
       "    </tr>\n",
       "    <tr>\n",
       "      <th>30</th>\n",
       "      <td>Russia</td>\n",
       "      <td>europe</td>\n",
       "      <td>H</td>\n",
       "      <td>3</td>\n",
       "      <td>3</td>\n",
       "      <td>0</td>\n",
       "      <td>2</td>\n",
       "      <td>1</td>\n",
       "      <td>2</td>\n",
       "      <td>3</td>\n",
       "      <td>−1</td>\n",
       "      <td>2</td>\n",
       "      <td>0</td>\n",
       "    </tr>\n",
       "    <tr>\n",
       "      <th>31</th>\n",
       "      <td>South Korea</td>\n",
       "      <td>asia</td>\n",
       "      <td>H</td>\n",
       "      <td>4</td>\n",
       "      <td>3</td>\n",
       "      <td>0</td>\n",
       "      <td>1</td>\n",
       "      <td>2</td>\n",
       "      <td>3</td>\n",
       "      <td>6</td>\n",
       "      <td>−3</td>\n",
       "      <td>1</td>\n",
       "      <td>0</td>\n",
       "    </tr>\n",
       "  </tbody>\n",
       "</table>\n",
       "</div>"
      ],
      "text/plain": [
       "                      team     continent group  group_pos  cantidad_juegos  \\\n",
       "0                   Brazil  southamerica     A          1                3   \n",
       "1                   Mexico  northamerica     A          2                3   \n",
       "2                  Croatia        europe     A          3                3   \n",
       "3                 Cameroon        africa     A          4                3   \n",
       "4              Netherlands        europe     B          1                3   \n",
       "5                    Chile  southamerica     B          2                3   \n",
       "6                    Spain        europe     B          3                3   \n",
       "7                Australia          asia     B          4                3   \n",
       "8                 Colombia  southamerica     C          1                3   \n",
       "9                   Greece        europe     C          2                3   \n",
       "10             Ivory Coast        africa     C          3                3   \n",
       "11                   Japan          asia     C          4                3   \n",
       "12              Costa Rica  northamerica     D          1                3   \n",
       "13                 Uruguay  southamerica     D          2                3   \n",
       "14                   Italy        europe     D          3                3   \n",
       "15                 England        europe     D          4                3   \n",
       "16                  France        europe     E          1                3   \n",
       "17             Switzerland        europe     E          2                3   \n",
       "18                 Ecuador  southamerica     E          3                3   \n",
       "19                Honduras  northamerica     E          4                3   \n",
       "20               Argentina  southamerica     F          1                3   \n",
       "21                 Nigeria        africa     F          2                3   \n",
       "22  Bosnia and Herzegovina        europe     F          3                3   \n",
       "23                    Iran          asia     F          4                3   \n",
       "24                 Germany        europe     G          1                3   \n",
       "25           United States  northamerica     G          2                3   \n",
       "26                Portugal        europe     G          3                3   \n",
       "27                   Ghana        africa     G          4                3   \n",
       "28                 Belgium        europe     H          1                3   \n",
       "29                 Algeria        africa     H          2                3   \n",
       "30                  Russia        europe     H          3                3   \n",
       "31             South Korea          asia     H          4                3   \n",
       "\n",
       "    juegos_ganados  juegos_empatados  juegos_perdidos  goles_favor  \\\n",
       "0                2                 1                0            7   \n",
       "1                2                 1                0            4   \n",
       "2                1                 0                2            6   \n",
       "3                0                 0                3            1   \n",
       "4                3                 0                0           10   \n",
       "5                2                 0                1            5   \n",
       "6                1                 0                2            4   \n",
       "7                0                 0                3            3   \n",
       "8                3                 0                0            9   \n",
       "9                1                 1                1            2   \n",
       "10               1                 0                2            4   \n",
       "11               0                 1                2            2   \n",
       "12               2                 1                0            4   \n",
       "13               2                 0                1            4   \n",
       "14               1                 0                2            2   \n",
       "15               0                 1                2            2   \n",
       "16               2                 1                0            8   \n",
       "17               2                 0                1            7   \n",
       "18               1                 1                1            3   \n",
       "19               0                 0                3            1   \n",
       "20               3                 0                0            6   \n",
       "21               1                 1                1            3   \n",
       "22               1                 0                2            4   \n",
       "23               0                 1                2            1   \n",
       "24               2                 1                0            7   \n",
       "25               1                 1                1            4   \n",
       "26               1                 1                1            4   \n",
       "27               0                 1                2            4   \n",
       "28               3                 0                0            4   \n",
       "29               1                 1                1            6   \n",
       "30               0                 2                1            2   \n",
       "31               0                 1                2            3   \n",
       "\n",
       "    goles_contra goles_diferencia  puntos  clasificado  \n",
       "0              2                5       7            1  \n",
       "1              1                3       7            1  \n",
       "2              6                0       3            0  \n",
       "3              9               −8       0            0  \n",
       "4              3                7       9            1  \n",
       "5              3                2       6            1  \n",
       "6              7               −3       3            0  \n",
       "7              9               −6       0            0  \n",
       "8              2                7       9            1  \n",
       "9              4               −2       4            1  \n",
       "10             5               −1       3            0  \n",
       "11             6               −4       1            0  \n",
       "12             1                3       7            1  \n",
       "13             4                0       6            1  \n",
       "14             3               −1       3            0  \n",
       "15             4               −2       1            0  \n",
       "16             2                6       7            1  \n",
       "17             6                1       6            1  \n",
       "18             3                0       4            0  \n",
       "19             8               −7       0            0  \n",
       "20             3                3       9            1  \n",
       "21             3                0       4            1  \n",
       "22             4                0       3            0  \n",
       "23             4               −3       1            0  \n",
       "24             2                5       7            1  \n",
       "25             4                0       4            1  \n",
       "26             7               −3       4            0  \n",
       "27             6               −2       1            0  \n",
       "28             1                3       9            1  \n",
       "29             5                1       4            1  \n",
       "30             3               −1       2            0  \n",
       "31             6               −3       1            0  "
      ]
     },
     "execution_count": 525,
     "metadata": {},
     "output_type": "execute_result"
    }
   ],
   "source": [
    "#Importo el CVS.\n",
    "df = pd.read_csv(\"worldcup2014.csv\")\n",
    "df"
   ]
  },
  {
   "cell_type": "code",
   "execution_count": 526,
   "id": "5111972d",
   "metadata": {},
   "outputs": [
    {
     "data": {
      "text/plain": [
       "(32, 13)"
      ]
     },
     "execution_count": 526,
     "metadata": {},
     "output_type": "execute_result"
    }
   ],
   "source": [
    "df.shape"
   ]
  },
  {
   "cell_type": "code",
   "execution_count": 527,
   "id": "90c3d886",
   "metadata": {},
   "outputs": [
    {
     "data": {
      "text/plain": [
       "europe          13\n",
       "southamerica     6\n",
       "africa           5\n",
       "northamerica     4\n",
       "asia             4\n",
       "Name: continent, dtype: int64"
      ]
     },
     "execution_count": 527,
     "metadata": {},
     "output_type": "execute_result"
    }
   ],
   "source": [
    "conteo_continentes= df['continent'].value_counts()\n",
    "conteo_continentes"
   ]
  },
  {
   "cell_type": "code",
   "execution_count": 528,
   "id": "2e31c469",
   "metadata": {},
   "outputs": [],
   "source": [
    "#1. Considerando el experimento de seleccionar un país participante al azar, se pide determinar las probabilidades de los siguientes sucesos:"
   ]
  },
  {
   "cell_type": "code",
   "execution_count": 529,
   "id": "56852ddf",
   "metadata": {},
   "outputs": [],
   "source": [
    "conteo_africa= df['continent'].value_counts()['africa']\n",
    "conteo_asia= df['continent'].value_counts()['asia']\n",
    "conteo_europa= df['continent'].value_counts()['europe']\n",
    "conteo_na= df['continent'].value_counts()['northamerica']\n",
    "conteo_sa= df['continent'].value_counts()['southamerica']"
   ]
  },
  {
   "cell_type": "code",
   "execution_count": 530,
   "id": "0d9b6e6f",
   "metadata": {},
   "outputs": [
    {
     "data": {
      "text/plain": [
       "32"
      ]
     },
     "execution_count": 530,
     "metadata": {},
     "output_type": "execute_result"
    }
   ],
   "source": [
    "total= conteo_africa + conteo_asia + conteo_europa + conteo_na + conteo_sa\n",
    "total"
   ]
  },
  {
   "cell_type": "code",
   "execution_count": 531,
   "id": "33578b86",
   "metadata": {},
   "outputs": [
    {
     "data": {
      "text/plain": [
       "0.15625"
      ]
     },
     "execution_count": 531,
     "metadata": {},
     "output_type": "execute_result"
    }
   ],
   "source": [
    "#a. pertenecer a África\n",
    "p_africa = conteo_africa/total\n",
    "p_africa"
   ]
  },
  {
   "cell_type": "code",
   "execution_count": 532,
   "id": "cf6ce89f",
   "metadata": {},
   "outputs": [
    {
     "data": {
      "text/plain": [
       "0.125"
      ]
     },
     "execution_count": 532,
     "metadata": {},
     "output_type": "execute_result"
    }
   ],
   "source": [
    "#b. pertenecer a Asia\n",
    "p_asia = conteo_asia/total\n",
    "p_asia"
   ]
  },
  {
   "cell_type": "code",
   "execution_count": 533,
   "id": "74c9a0d3",
   "metadata": {},
   "outputs": [
    {
     "data": {
      "text/plain": [
       "0.40625"
      ]
     },
     "execution_count": 533,
     "metadata": {},
     "output_type": "execute_result"
    }
   ],
   "source": [
    "#c. pertenecer a Europa\n",
    "p_europa = conteo_europa/total\n",
    "p_europa"
   ]
  },
  {
   "cell_type": "code",
   "execution_count": 534,
   "id": "d136b716",
   "metadata": {},
   "outputs": [
    {
     "data": {
      "text/plain": [
       "0.125"
      ]
     },
     "execution_count": 534,
     "metadata": {},
     "output_type": "execute_result"
    }
   ],
   "source": [
    "#d. pertenecer a Norteamérica\n",
    "p_na = conteo_na/total\n",
    "p_na"
   ]
  },
  {
   "cell_type": "code",
   "execution_count": 535,
   "id": "80ac0a8d",
   "metadata": {},
   "outputs": [
    {
     "data": {
      "text/plain": [
       "0.1875"
      ]
     },
     "execution_count": 535,
     "metadata": {},
     "output_type": "execute_result"
    }
   ],
   "source": [
    "#e. pertenecer a Sudamérica\n",
    "p_sa = conteo_sa/total\n",
    "p_sa"
   ]
  },
  {
   "cell_type": "code",
   "execution_count": 536,
   "id": "f4777e41",
   "metadata": {},
   "outputs": [
    {
     "data": {
      "text/plain": [
       "16"
      ]
     },
     "execution_count": 536,
     "metadata": {},
     "output_type": "execute_result"
    }
   ],
   "source": [
    "#f. clasificar a segunda ronda\n",
    "clasificado= df['clasificado'].value_counts()[1]\n",
    "clasificado"
   ]
  },
  {
   "cell_type": "code",
   "execution_count": 537,
   "id": "65bfc99b",
   "metadata": {},
   "outputs": [
    {
     "data": {
      "text/plain": [
       "0.5"
      ]
     },
     "execution_count": 537,
     "metadata": {},
     "output_type": "execute_result"
    }
   ],
   "source": [
    "segunda_ronda= clasificado/total\n",
    "segunda_ronda"
   ]
  },
  {
   "cell_type": "code",
   "execution_count": 538,
   "id": "29b0ee50",
   "metadata": {},
   "outputs": [
    {
     "data": {
      "text/plain": [
       "1    11\n",
       "0     9\n",
       "2     8\n",
       "3     4\n",
       "Name: juegos_ganados, dtype: int64"
      ]
     },
     "execution_count": 538,
     "metadata": {},
     "output_type": "execute_result"
    }
   ],
   "source": [
    "#g. ganar al menos un partido\n",
    "df['juegos_ganados'].value_counts()"
   ]
  },
  {
   "cell_type": "code",
   "execution_count": 539,
   "id": "b05c14be",
   "metadata": {},
   "outputs": [
    {
     "data": {
      "text/plain": [
       "23"
      ]
     },
     "execution_count": 539,
     "metadata": {},
     "output_type": "execute_result"
    }
   ],
   "source": [
    "ganan = df['juegos_ganados'] > 0\n",
    "ganan.sum()"
   ]
  },
  {
   "cell_type": "code",
   "execution_count": 540,
   "id": "70047bf3",
   "metadata": {},
   "outputs": [
    {
     "data": {
      "text/plain": [
       "0.71875"
      ]
     },
     "execution_count": 540,
     "metadata": {},
     "output_type": "execute_result"
    }
   ],
   "source": [
    "ganar= ganan.sum()/total\n",
    "ganar"
   ]
  },
  {
   "cell_type": "code",
   "execution_count": 541,
   "id": "3b577155",
   "metadata": {},
   "outputs": [],
   "source": [
    "#h. pertenecer a África y clasificar a segunda ronda\n",
    "ser_africa= df['continent'] == 'africa'\n",
    "ser_clasificado = df[\"clasificado\"] == 1"
   ]
  },
  {
   "cell_type": "code",
   "execution_count": 542,
   "id": "65cfb739",
   "metadata": {},
   "outputs": [
    {
     "data": {
      "text/plain": [
       "2"
      ]
     },
     "execution_count": 542,
     "metadata": {},
     "output_type": "execute_result"
    }
   ],
   "source": [
    "africa_segunda_ronda = (ser_africa & ser_clasificado).sum()\n",
    "africa_segunda_ronda"
   ]
  },
  {
   "cell_type": "code",
   "execution_count": 543,
   "id": "d7822735",
   "metadata": {},
   "outputs": [
    {
     "data": {
      "text/plain": [
       "0.0625"
      ]
     },
     "execution_count": 543,
     "metadata": {},
     "output_type": "execute_result"
    }
   ],
   "source": [
    "p_africa_clasificar = africa_segunda_ronda/total\n",
    "p_africa_clasificar"
   ]
  },
  {
   "cell_type": "code",
   "execution_count": 544,
   "id": "10c0ce37",
   "metadata": {},
   "outputs": [],
   "source": [
    "#i. pertenecer a Europa y clasificar a segunda ronda\n",
    "ser_europa= df['continent'] == 'europe'\n",
    "ser_clasificado = df[\"clasificado\"] == 1"
   ]
  },
  {
   "cell_type": "code",
   "execution_count": 545,
   "id": "5f223f07",
   "metadata": {},
   "outputs": [
    {
     "data": {
      "text/plain": [
       "6"
      ]
     },
     "execution_count": 545,
     "metadata": {},
     "output_type": "execute_result"
    }
   ],
   "source": [
    "europa_segunda_ronda = (ser_europa & ser_clasificado).sum()\n",
    "europa_segunda_ronda"
   ]
  },
  {
   "cell_type": "code",
   "execution_count": 546,
   "id": "d6561dd5",
   "metadata": {},
   "outputs": [
    {
     "data": {
      "text/plain": [
       "0.1875"
      ]
     },
     "execution_count": 546,
     "metadata": {},
     "output_type": "execute_result"
    }
   ],
   "source": [
    "p_europa_clasificar = europa_segunda_ronda/total\n",
    "p_europa_clasificar"
   ]
  },
  {
   "cell_type": "code",
   "execution_count": 547,
   "id": "84e6f993",
   "metadata": {},
   "outputs": [
    {
     "data": {
      "text/plain": [
       "0.1875"
      ]
     },
     "execution_count": 547,
     "metadata": {},
     "output_type": "execute_result"
    }
   ],
   "source": [
    "sum(ser_europa & ser_clasificado) / 32"
   ]
  },
  {
   "cell_type": "code",
   "execution_count": 548,
   "id": "3547842b",
   "metadata": {},
   "outputs": [],
   "source": [
    "#j. pertenecer a Asia y clasificar a segunda ronda\n",
    "ser_asia= df['continent'] == 'asia'\n",
    "ser_clasificado = df[\"clasificado\"] == 1"
   ]
  },
  {
   "cell_type": "code",
   "execution_count": 549,
   "id": "9417a575",
   "metadata": {},
   "outputs": [
    {
     "data": {
      "text/plain": [
       "0"
      ]
     },
     "execution_count": 549,
     "metadata": {},
     "output_type": "execute_result"
    }
   ],
   "source": [
    "asia_segunda_ronda = (ser_asia & ser_clasificado).sum()\n",
    "asia_segunda_ronda"
   ]
  },
  {
   "cell_type": "code",
   "execution_count": 550,
   "id": "f86e0963",
   "metadata": {},
   "outputs": [
    {
     "data": {
      "text/plain": [
       "0.0"
      ]
     },
     "execution_count": 550,
     "metadata": {},
     "output_type": "execute_result"
    }
   ],
   "source": [
    "p_asia_clasificar = asia_segunda_ronda/total\n",
    "p_asia_clasificar"
   ]
  },
  {
   "cell_type": "code",
   "execution_count": 551,
   "id": "c609569e",
   "metadata": {},
   "outputs": [],
   "source": [
    "#k. pertenecer a Sudamérica y clasificar a segunda ronda\n",
    "ser_sa= df['continent'] == 'southamerica'\n",
    "ser_clasificado = df[\"clasificado\"] == 1"
   ]
  },
  {
   "cell_type": "code",
   "execution_count": 552,
   "id": "f6161a53",
   "metadata": {},
   "outputs": [
    {
     "data": {
      "text/plain": [
       "5"
      ]
     },
     "execution_count": 552,
     "metadata": {},
     "output_type": "execute_result"
    }
   ],
   "source": [
    "sa_segunda_ronda = (ser_sa & ser_clasificado).sum()\n",
    "sa_segunda_ronda"
   ]
  },
  {
   "cell_type": "code",
   "execution_count": 553,
   "id": "bf421a1d",
   "metadata": {},
   "outputs": [
    {
     "data": {
      "text/plain": [
       "0.15625"
      ]
     },
     "execution_count": 553,
     "metadata": {},
     "output_type": "execute_result"
    }
   ],
   "source": [
    "p_sa_clasificar = sa_segunda_ronda/total\n",
    "p_sa_clasificar"
   ]
  },
  {
   "cell_type": "code",
   "execution_count": 554,
   "id": "ea74712f",
   "metadata": {},
   "outputs": [],
   "source": [
    "#l. pertenecer a Norteamérica y clasificar a segunda ronda\n",
    "ser_na= df['continent'] == 'northamerica'\n",
    "ser_clasificado = df[\"clasificado\"] == 1"
   ]
  },
  {
   "cell_type": "code",
   "execution_count": 555,
   "id": "27fadb2b",
   "metadata": {},
   "outputs": [
    {
     "data": {
      "text/plain": [
       "3"
      ]
     },
     "execution_count": 555,
     "metadata": {},
     "output_type": "execute_result"
    }
   ],
   "source": [
    "na_segunda_ronda = (ser_na & ser_clasificado).sum()\n",
    "na_segunda_ronda"
   ]
  },
  {
   "cell_type": "code",
   "execution_count": 556,
   "id": "0a6eff46",
   "metadata": {},
   "outputs": [
    {
     "data": {
      "text/plain": [
       "0.09375"
      ]
     },
     "execution_count": 556,
     "metadata": {},
     "output_type": "execute_result"
    }
   ],
   "source": [
    "p_na_clasificar = na_segunda_ronda/total\n",
    "p_na_clasificar"
   ]
  },
  {
   "cell_type": "code",
   "execution_count": 557,
   "id": "6dee4c2f",
   "metadata": {},
   "outputs": [],
   "source": [
    "#m. pertenecer a África o clasificar a segunda ronda\n",
    "ser_africa = df['continent'] == 'africa'\n",
    "ser_clasificado = df['clasificado'] == 1"
   ]
  },
  {
   "cell_type": "code",
   "execution_count": 558,
   "id": "5723b2d1",
   "metadata": {},
   "outputs": [
    {
     "data": {
      "text/plain": [
       "19"
      ]
     },
     "execution_count": 558,
     "metadata": {},
     "output_type": "execute_result"
    }
   ],
   "source": [
    "africa_o_clasificado = (ser_africa | ser_clasificado).sum()\n",
    "africa_o_clasificado"
   ]
  },
  {
   "cell_type": "code",
   "execution_count": 559,
   "id": "6f26b49a",
   "metadata": {},
   "outputs": [
    {
     "data": {
      "text/plain": [
       "0.59375"
      ]
     },
     "execution_count": 559,
     "metadata": {},
     "output_type": "execute_result"
    }
   ],
   "source": [
    "p_africaoclasificar = africa_o_clasificado/total\n",
    "p_africaoclasificar"
   ]
  },
  {
   "cell_type": "code",
   "execution_count": 560,
   "id": "bf14cb0e",
   "metadata": {},
   "outputs": [],
   "source": [
    "#n. pertenecer a Europa o clasificar a segunda ronda\n",
    "ser_europa= df['continent'] == 'europe'\n",
    "ser_clasificado = df[\"clasificado\"] == 1"
   ]
  },
  {
   "cell_type": "code",
   "execution_count": 561,
   "id": "065f933d",
   "metadata": {},
   "outputs": [
    {
     "data": {
      "text/plain": [
       "23"
      ]
     },
     "execution_count": 561,
     "metadata": {},
     "output_type": "execute_result"
    }
   ],
   "source": [
    "europa_o_clasificado = (ser_europa | ser_clasificado).sum()\n",
    "europa_o_clasificado"
   ]
  },
  {
   "cell_type": "code",
   "execution_count": 562,
   "id": "e4e1a9a3",
   "metadata": {},
   "outputs": [
    {
     "data": {
      "text/plain": [
       "0.71875"
      ]
     },
     "execution_count": 562,
     "metadata": {},
     "output_type": "execute_result"
    }
   ],
   "source": [
    "p_europaoclasificar = europa_o_clasificado/total\n",
    "p_europaoclasificar"
   ]
  },
  {
   "cell_type": "code",
   "execution_count": 563,
   "id": "9f7f4c3d",
   "metadata": {},
   "outputs": [],
   "source": [
    "#o. pertenecer a Asia o clasificar a segunda ronda\n",
    "ser_asia= df['continent'] == 'asia'\n",
    "ser_clasificado = df[\"clasificado\"] == 1"
   ]
  },
  {
   "cell_type": "code",
   "execution_count": 564,
   "id": "81aec741",
   "metadata": {},
   "outputs": [
    {
     "data": {
      "text/plain": [
       "20"
      ]
     },
     "execution_count": 564,
     "metadata": {},
     "output_type": "execute_result"
    }
   ],
   "source": [
    "asia_o_clasificado = (ser_asia | ser_clasificado).sum()\n",
    "asia_o_clasificado"
   ]
  },
  {
   "cell_type": "code",
   "execution_count": 565,
   "id": "8cb24d61",
   "metadata": {},
   "outputs": [
    {
     "data": {
      "text/plain": [
       "0.625"
      ]
     },
     "execution_count": 565,
     "metadata": {},
     "output_type": "execute_result"
    }
   ],
   "source": [
    "p_asiaoclasificar = asia_o_clasificado/total\n",
    "p_asiaoclasificar"
   ]
  },
  {
   "cell_type": "code",
   "execution_count": 566,
   "id": "a5e848cb",
   "metadata": {},
   "outputs": [],
   "source": [
    "#p. pertenecer a Sudamérica o clasificar a segunda ronda\n",
    "ser_sa= df['continent'] == 'southamerica'\n",
    "ser_clasificado = df[\"clasificado\"] == 1"
   ]
  },
  {
   "cell_type": "code",
   "execution_count": 567,
   "id": "0d16ccb6",
   "metadata": {},
   "outputs": [
    {
     "data": {
      "text/plain": [
       "17"
      ]
     },
     "execution_count": 567,
     "metadata": {},
     "output_type": "execute_result"
    }
   ],
   "source": [
    "sa_o_clasificado = (ser_sa | ser_clasificado).sum()\n",
    "sa_o_clasificado"
   ]
  },
  {
   "cell_type": "code",
   "execution_count": 568,
   "id": "737299d0",
   "metadata": {},
   "outputs": [
    {
     "data": {
      "text/plain": [
       "0.53125"
      ]
     },
     "execution_count": 568,
     "metadata": {},
     "output_type": "execute_result"
    }
   ],
   "source": [
    "p_saoclasificar = sa_o_clasificado/total\n",
    "p_saoclasificar"
   ]
  },
  {
   "cell_type": "code",
   "execution_count": 569,
   "id": "25e6ddc0",
   "metadata": {},
   "outputs": [],
   "source": [
    "#q. pertenecer a Norteamérica o clasificar a segunda ronda\n",
    "ser_na= df['continent'] == 'northamerica'\n",
    "ser_clasificado = df[\"clasificado\"] == 1"
   ]
  },
  {
   "cell_type": "code",
   "execution_count": 570,
   "id": "20f8ad90",
   "metadata": {},
   "outputs": [
    {
     "data": {
      "text/plain": [
       "17"
      ]
     },
     "execution_count": 570,
     "metadata": {},
     "output_type": "execute_result"
    }
   ],
   "source": [
    "na_o_clasificado = (ser_na | ser_clasificado).sum()\n",
    "na_o_clasificado"
   ]
  },
  {
   "cell_type": "code",
   "execution_count": 571,
   "id": "5c273f81",
   "metadata": {},
   "outputs": [
    {
     "data": {
      "text/plain": [
       "0.53125"
      ]
     },
     "execution_count": 571,
     "metadata": {},
     "output_type": "execute_result"
    }
   ],
   "source": [
    "p_naoclasificar = na_o_clasificado/total\n",
    "p_naoclasificar"
   ]
  },
  {
   "cell_type": "code",
   "execution_count": 572,
   "id": "7ac1d2f9",
   "metadata": {},
   "outputs": [],
   "source": [
    "#r. pertenecer a África y haber ganado al menos un partido\n",
    "ser_africa = df['continent'] == 'africa'\n",
    "ganan = df['juegos_ganados'] >= 1"
   ]
  },
  {
   "cell_type": "code",
   "execution_count": 573,
   "id": "17bcb600",
   "metadata": {},
   "outputs": [
    {
     "data": {
      "text/plain": [
       "3"
      ]
     },
     "execution_count": 573,
     "metadata": {},
     "output_type": "execute_result"
    }
   ],
   "source": [
    "africa_ganar = (ser_africa & ganan).sum()\n",
    "africa_ganar"
   ]
  },
  {
   "cell_type": "code",
   "execution_count": 574,
   "id": "2fd5967e",
   "metadata": {},
   "outputs": [
    {
     "data": {
      "text/plain": [
       "0.09375"
      ]
     },
     "execution_count": 574,
     "metadata": {},
     "output_type": "execute_result"
    }
   ],
   "source": [
    "p_africa_ganar = africa_ganar / total\n",
    "p_africa_ganar"
   ]
  },
  {
   "cell_type": "code",
   "execution_count": 575,
   "id": "2270706d",
   "metadata": {},
   "outputs": [],
   "source": [
    "#s. pertenecer a Europa y haber ganado al menos un partido\n",
    "ser_europa = df['continent'] == 'europe'\n",
    "ganan = df['juegos_ganados'] >= 1"
   ]
  },
  {
   "cell_type": "code",
   "execution_count": 576,
   "id": "8f15868e",
   "metadata": {},
   "outputs": [
    {
     "data": {
      "text/plain": [
       "11"
      ]
     },
     "execution_count": 576,
     "metadata": {},
     "output_type": "execute_result"
    }
   ],
   "source": [
    "europa_ganar = (ser_europa & ganan).sum()\n",
    "europa_ganar"
   ]
  },
  {
   "cell_type": "code",
   "execution_count": 577,
   "id": "dd876029",
   "metadata": {},
   "outputs": [
    {
     "data": {
      "text/plain": [
       "0.34375"
      ]
     },
     "execution_count": 577,
     "metadata": {},
     "output_type": "execute_result"
    }
   ],
   "source": [
    "p_europa_ganar = europa_ganar / total\n",
    "p_europa_ganar"
   ]
  },
  {
   "cell_type": "code",
   "execution_count": 578,
   "id": "db2326fd",
   "metadata": {},
   "outputs": [],
   "source": [
    "#t. pertenecer a Asia y haber ganado al menos un partido\n",
    "ser_asia = df['continent'] == 'asia'\n",
    "ganan = df['juegos_ganados'] >= 1"
   ]
  },
  {
   "cell_type": "code",
   "execution_count": 579,
   "id": "2ae61bd0",
   "metadata": {},
   "outputs": [
    {
     "data": {
      "text/plain": [
       "0"
      ]
     },
     "execution_count": 579,
     "metadata": {},
     "output_type": "execute_result"
    }
   ],
   "source": [
    "asia_ganar = (ser_asia & ganan).sum()\n",
    "asia_ganar"
   ]
  },
  {
   "cell_type": "code",
   "execution_count": 580,
   "id": "c4a46edc",
   "metadata": {},
   "outputs": [
    {
     "data": {
      "text/plain": [
       "0.0"
      ]
     },
     "execution_count": 580,
     "metadata": {},
     "output_type": "execute_result"
    }
   ],
   "source": [
    "p_asia_ganar = asia_ganar / total\n",
    "p_asia_ganar"
   ]
  },
  {
   "cell_type": "code",
   "execution_count": 581,
   "id": "db91f782",
   "metadata": {},
   "outputs": [],
   "source": [
    "#u. pertenecer a Sudamérica y haber ganado al menos un partido\n",
    "ser_sa = df['continent'] == 'southamerica'\n",
    "ganan = df['juegos_ganados'] >= 1"
   ]
  },
  {
   "cell_type": "code",
   "execution_count": 582,
   "id": "0e8e58b3",
   "metadata": {},
   "outputs": [
    {
     "data": {
      "text/plain": [
       "6"
      ]
     },
     "execution_count": 582,
     "metadata": {},
     "output_type": "execute_result"
    }
   ],
   "source": [
    "sa_ganar = (ser_sa & ganan).sum()\n",
    "sa_ganar"
   ]
  },
  {
   "cell_type": "code",
   "execution_count": 583,
   "id": "1daa201b",
   "metadata": {},
   "outputs": [
    {
     "data": {
      "text/plain": [
       "0.1875"
      ]
     },
     "execution_count": 583,
     "metadata": {},
     "output_type": "execute_result"
    }
   ],
   "source": [
    "p_sa_ganar = sa_ganar / total\n",
    "p_sa_ganar"
   ]
  },
  {
   "cell_type": "code",
   "execution_count": 584,
   "id": "a64b2f37",
   "metadata": {},
   "outputs": [],
   "source": [
    "#v. pertenecer a Norteamérica y haber ganado al menos un partido\n",
    "ser_na = df['continent'] == 'northamerica'\n",
    "ganan = df['juegos_ganados'] >= 1"
   ]
  },
  {
   "cell_type": "code",
   "execution_count": 585,
   "id": "57beb694",
   "metadata": {},
   "outputs": [
    {
     "data": {
      "text/plain": [
       "3"
      ]
     },
     "execution_count": 585,
     "metadata": {},
     "output_type": "execute_result"
    }
   ],
   "source": [
    "na_ganar = (ser_na & ganan).sum()\n",
    "na_ganar"
   ]
  },
  {
   "cell_type": "code",
   "execution_count": 586,
   "id": "41543999",
   "metadata": {},
   "outputs": [
    {
     "data": {
      "text/plain": [
       "0.09375"
      ]
     },
     "execution_count": 586,
     "metadata": {},
     "output_type": "execute_result"
    }
   ],
   "source": [
    "p_na_ganar = na_ganar / total\n",
    "p_na_ganar"
   ]
  },
  {
   "cell_type": "code",
   "execution_count": 587,
   "id": "d4a70753",
   "metadata": {},
   "outputs": [],
   "source": [
    "#w. haber ganado al menos un partido y clasificar a segunda ronda\n",
    "ganan = df['juegos_ganados'] >= 1\n",
    "clasificado = df['clasificado'] == 1"
   ]
  },
  {
   "cell_type": "code",
   "execution_count": 588,
   "id": "5103d490",
   "metadata": {},
   "outputs": [],
   "source": [
    "ganado_clasificado = (ganado & clasificado).sum()"
   ]
  },
  {
   "cell_type": "code",
   "execution_count": 589,
   "id": "de561e2a",
   "metadata": {},
   "outputs": [
    {
     "data": {
      "text/plain": [
       "0.5"
      ]
     },
     "execution_count": 589,
     "metadata": {},
     "output_type": "execute_result"
    }
   ],
   "source": [
    "p_ganado_clasificado = ganado_clasificado / total\n",
    "p_ganado_clasificado"
   ]
  },
  {
   "cell_type": "code",
   "execution_count": 590,
   "id": "01a4b07c",
   "metadata": {},
   "outputs": [
    {
     "data": {
      "text/plain": [
       "0.5"
      ]
     },
     "execution_count": 590,
     "metadata": {},
     "output_type": "execute_result"
    }
   ],
   "source": [
    "#Modo avreviado: \n",
    "p_ganado_clasificado = sum(ganado & clasificado) / 32\n",
    "p_ganado_clasificado"
   ]
  },
  {
   "cell_type": "code",
   "execution_count": 591,
   "id": "967e3b6c",
   "metadata": {},
   "outputs": [],
   "source": [
    "#2. A partir de las probabilidades anteriores, y sin realizar conteos, calcular las siguientes probabilidades:"
   ]
  },
  {
   "cell_type": "code",
   "execution_count": 592,
   "id": "40cbf184",
   "metadata": {},
   "outputs": [
    {
     "data": {
      "text/plain": [
       "0.375"
      ]
     },
     "execution_count": 592,
     "metadata": {},
     "output_type": "execute_result"
    }
   ],
   "source": [
    "#a. pertenecer a Europa, si se sabe que clasificó\n",
    "p_europa_dado_clasificar = p_europa_clasificar/segunda_ronda\n",
    "p_europa_dado_clasificar"
   ]
  },
  {
   "cell_type": "code",
   "execution_count": 593,
   "id": "16aec9dd",
   "metadata": {},
   "outputs": [
    {
     "data": {
      "text/plain": [
       "0.3125"
      ]
     },
     "execution_count": 593,
     "metadata": {},
     "output_type": "execute_result"
    }
   ],
   "source": [
    "#b. pertenecer a Sudamérica, si se sabe que clasificó\n",
    "p_sa_dado_clasificar = p_sa_clasificar/segunda_ronda\n",
    "p_sa_dado_clasificar"
   ]
  },
  {
   "cell_type": "code",
   "execution_count": 594,
   "id": "1e3a997e",
   "metadata": {},
   "outputs": [
    {
     "data": {
      "text/plain": [
       "0.13043478260869565"
      ]
     },
     "execution_count": 594,
     "metadata": {},
     "output_type": "execute_result"
    }
   ],
   "source": [
    "#c. pertenecer a África, si se sabe que ganó al menos un partido\n",
    "p_africa_dado_ganar = p_africa_ganar/ganar\n",
    "p_africa_dado_ganar"
   ]
  },
  {
   "cell_type": "code",
   "execution_count": 595,
   "id": "8627ed7d",
   "metadata": {},
   "outputs": [
    {
     "data": {
      "text/plain": [
       "1.0"
      ]
     },
     "execution_count": 595,
     "metadata": {},
     "output_type": "execute_result"
    }
   ],
   "source": [
    "#d. haber ganado al menos un partido, si se sabe que clasificó\n",
    "ganar_clasificar = p_ganado_clasificado/segunda_ronda\n",
    "ganar_clasificar"
   ]
  },
  {
   "cell_type": "code",
   "execution_count": 596,
   "id": "411601fb",
   "metadata": {},
   "outputs": [
    {
     "data": {
      "text/plain": [
       "0.75"
      ]
     },
     "execution_count": 596,
     "metadata": {},
     "output_type": "execute_result"
    }
   ],
   "source": [
    "#e. haber ganado al menos un partido, si se sabe que pertenece a Norteamérica\n",
    "p_ganan_ser_na = na_ganar / conteo_na\n",
    "p_ganan_ser_na"
   ]
  },
  {
   "cell_type": "code",
   "execution_count": 597,
   "id": "d8066545",
   "metadata": {},
   "outputs": [
    {
     "data": {
      "text/plain": [
       "6.0"
      ]
     },
     "execution_count": 597,
     "metadata": {},
     "output_type": "execute_result"
    }
   ],
   "source": [
    "#f. NO haber clasificado, si se sabe que pertenece a África\n",
    "p_no_clasificar_africa = (1 - p_africa_clasificar) / p_africa\n",
    "p_no_clasificar_africa"
   ]
  }
 ],
 "metadata": {
  "kernelspec": {
   "display_name": "Python 3 (ipykernel)",
   "language": "python",
   "name": "python3"
  },
  "language_info": {
   "codemirror_mode": {
    "name": "ipython",
    "version": 3
   },
   "file_extension": ".py",
   "mimetype": "text/x-python",
   "name": "python",
   "nbconvert_exporter": "python",
   "pygments_lexer": "ipython3",
   "version": "3.11.4"
  }
 },
 "nbformat": 4,
 "nbformat_minor": 5
}
