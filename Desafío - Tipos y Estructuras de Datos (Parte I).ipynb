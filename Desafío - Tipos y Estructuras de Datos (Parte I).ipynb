{
 "cells": [
  {
   "cell_type": "code",
   "execution_count": 69,
   "id": "a64dbad9",
   "metadata": {},
   "outputs": [],
   "source": [
    "#Desafío - Tipos y Estructuras de Datos (Parte I) "
   ]
  },
  {
   "cell_type": "code",
   "execution_count": 70,
   "id": "27602231",
   "metadata": {},
   "outputs": [],
   "source": [
    "#1. Usando la siguiente lista:\n",
    "lista = [\"manzana\", \"pera\", \"naranja\", \"plátano\", \"kiwi\", \"uva\", \"piña\",\n",
    "\"mango\", \"sandía\", \"melón\"]"
   ]
  },
  {
   "cell_type": "code",
   "execution_count": 71,
   "id": "0b9c2256",
   "metadata": {},
   "outputs": [],
   "source": [
    "#Imprime el quinto elemento de la lista."
   ]
  },
  {
   "cell_type": "code",
   "execution_count": 72,
   "id": "5cbcc77b",
   "metadata": {},
   "outputs": [
    {
     "name": "stdout",
     "output_type": "stream",
     "text": [
      "kiwi\n"
     ]
    }
   ],
   "source": [
    "print(lista[4])"
   ]
  },
  {
   "cell_type": "code",
   "execution_count": 73,
   "id": "389ad2aa",
   "metadata": {},
   "outputs": [],
   "source": [
    "#Imprime del cuarto al sexto inclusive."
   ]
  },
  {
   "cell_type": "code",
   "execution_count": 74,
   "id": "07857863",
   "metadata": {},
   "outputs": [
    {
     "name": "stdout",
     "output_type": "stream",
     "text": [
      "['plátano', 'kiwi', 'uva']\n"
     ]
    }
   ],
   "source": [
    "print(lista[3:6])"
   ]
  },
  {
   "cell_type": "code",
   "execution_count": 75,
   "id": "9f205425",
   "metadata": {},
   "outputs": [],
   "source": [
    "#Elimina el elemento en la posición 3."
   ]
  },
  {
   "cell_type": "code",
   "execution_count": 76,
   "id": "5144728e",
   "metadata": {},
   "outputs": [],
   "source": [
    "del lista[2]"
   ]
  },
  {
   "cell_type": "code",
   "execution_count": 77,
   "id": "4fa39e42",
   "metadata": {},
   "outputs": [
    {
     "data": {
      "text/plain": [
       "['manzana',\n",
       " 'pera',\n",
       " 'plátano',\n",
       " 'kiwi',\n",
       " 'uva',\n",
       " 'piña',\n",
       " 'mango',\n",
       " 'sandía',\n",
       " 'melón']"
      ]
     },
     "execution_count": 77,
     "metadata": {},
     "output_type": "execute_result"
    }
   ],
   "source": [
    "#Se Imprime\n",
    "lista"
   ]
  },
  {
   "cell_type": "code",
   "execution_count": 78,
   "id": "b4769d99",
   "metadata": {},
   "outputs": [],
   "source": [
    "#Agrega dos nuevos elementos a la lista"
   ]
  },
  {
   "cell_type": "code",
   "execution_count": 79,
   "id": "bd30b528",
   "metadata": {},
   "outputs": [],
   "source": [
    "lista.append(\"lúcuma\")\n",
    "lista.append(\"tuna\")"
   ]
  },
  {
   "cell_type": "code",
   "execution_count": 80,
   "id": "0b3c614b",
   "metadata": {},
   "outputs": [
    {
     "data": {
      "text/plain": [
       "['manzana',\n",
       " 'pera',\n",
       " 'plátano',\n",
       " 'kiwi',\n",
       " 'uva',\n",
       " 'piña',\n",
       " 'mango',\n",
       " 'sandía',\n",
       " 'melón',\n",
       " 'lúcuma',\n",
       " 'tuna']"
      ]
     },
     "execution_count": 80,
     "metadata": {},
     "output_type": "execute_result"
    }
   ],
   "source": [
    "#Se Imprime\n",
    "lista"
   ]
  },
  {
   "cell_type": "code",
   "execution_count": 81,
   "id": "1f2505eb",
   "metadata": {},
   "outputs": [],
   "source": [
    "#Ordena la lista alfabéticamente."
   ]
  },
  {
   "cell_type": "code",
   "execution_count": 82,
   "id": "fd9415c9",
   "metadata": {},
   "outputs": [],
   "source": [
    "lista.sort()"
   ]
  },
  {
   "cell_type": "code",
   "execution_count": 83,
   "id": "9b5e03ce",
   "metadata": {
    "scrolled": true
   },
   "outputs": [
    {
     "name": "stdout",
     "output_type": "stream",
     "text": [
      "kiwi\n",
      "lúcuma\n",
      "mango\n",
      "manzana\n",
      "melón\n",
      "pera\n",
      "piña\n",
      "plátano\n",
      "sandía\n",
      "tuna\n",
      "uva\n"
     ]
    }
   ],
   "source": [
    "for i in lista:\n",
    "    print(i)"
   ]
  },
  {
   "cell_type": "code",
   "execution_count": 84,
   "id": "d725ea3b",
   "metadata": {},
   "outputs": [],
   "source": [
    "#Genera un diccionario usando lista1 como llaves y lista como valores."
   ]
  },
  {
   "cell_type": "code",
   "execution_count": 85,
   "id": "bb988d37",
   "metadata": {},
   "outputs": [],
   "source": [
    "lista1 = [\"uno\", \"dos\", \"tres\", \"cuatro\", \"cinco\", \"seis\", \"siete\",\n",
    "\"ocho\", \"nueve\", \"diez\"]"
   ]
  },
  {
   "cell_type": "code",
   "execution_count": 86,
   "id": "bf5f962b",
   "metadata": {},
   "outputs": [
    {
     "name": "stdout",
     "output_type": "stream",
     "text": [
      "{'kiwi': 'uno', 'lúcuma': 'dos', 'mango': 'tres', 'manzana': 'cuatro', 'melón': 'cinco', 'pera': 'seis', 'piña': 'siete', 'plátano': 'ocho', 'sandía': 'nueve', 'tuna': 'diez'}\n"
     ]
    }
   ],
   "source": [
    "diccionario = dict( zip(lista,lista1)  )\n",
    "print(diccionario)"
   ]
  },
  {
   "cell_type": "code",
   "execution_count": 87,
   "id": "1b7802b2",
   "metadata": {},
   "outputs": [],
   "source": [
    "#2. Fabricación de cerveza artesanal"
   ]
  },
  {
   "cell_type": "code",
   "execution_count": 88,
   "id": "7024dfd1",
   "metadata": {},
   "outputs": [],
   "source": [
    " #Importa la librería NumPy."
   ]
  },
  {
   "cell_type": "code",
   "execution_count": 89,
   "id": "1bb8030f",
   "metadata": {},
   "outputs": [],
   "source": [
    "import numpy as np "
   ]
  },
  {
   "cell_type": "code",
   "execution_count": 90,
   "id": "e7fb85f9",
   "metadata": {},
   "outputs": [],
   "source": [
    "# Carga los datos del archivo csv en una variable llamada array, usando np.loadtxt(“alcohol_cerveza.csv”) y modifica los parámetros necesarios para leer bien elarchivo."
   ]
  },
  {
   "cell_type": "code",
   "execution_count": 91,
   "id": "c2834bad",
   "metadata": {},
   "outputs": [],
   "source": [
    "alcohol = np.loadtxt(\"alcohol_cerveza.csv\", dtype=float, encoding=\"utf-8\", skiprows=1)"
   ]
  },
  {
   "cell_type": "code",
   "execution_count": 92,
   "id": "4b14611a",
   "metadata": {},
   "outputs": [],
   "source": [
    "# Calcula la media de los datos utilizando la función mean de NumPy y almacena el resultado en una variable llamada media."
   ]
  },
  {
   "cell_type": "code",
   "execution_count": 93,
   "id": "aa5682f0",
   "metadata": {},
   "outputs": [],
   "source": [
    "media= np.mean(alcohol)"
   ]
  },
  {
   "cell_type": "code",
   "execution_count": 94,
   "id": "fd144434",
   "metadata": {},
   "outputs": [
    {
     "name": "stdout",
     "output_type": "stream",
     "text": [
      "Promedio o Media:  5.01034\n"
     ]
    }
   ],
   "source": [
    "#Se Imprime\n",
    "print(\"Promedio o Media: \", media)"
   ]
  },
  {
   "cell_type": "code",
   "execution_count": 95,
   "id": "ebfce394",
   "metadata": {},
   "outputs": [],
   "source": [
    "# Calcula la desviación estándar de los datos utilizando la función std de NumPy y almacena el resultado en una variable llamada desviacion"
   ]
  },
  {
   "cell_type": "code",
   "execution_count": 96,
   "id": "2c5e8320",
   "metadata": {},
   "outputs": [],
   "source": [
    "desviacion= np.std(alcohol)"
   ]
  },
  {
   "cell_type": "code",
   "execution_count": 97,
   "id": "7c8333fe",
   "metadata": {},
   "outputs": [
    {
     "name": "stdout",
     "output_type": "stream",
     "text": [
      "Desviación estándar:  0.31158992987579043\n"
     ]
    }
   ],
   "source": [
    "#Se Imprime\n",
    "print(\"Desviación estándar: \", desviacion)"
   ]
  },
  {
   "cell_type": "code",
   "execution_count": 98,
   "id": "cfc8e1e2",
   "metadata": {},
   "outputs": [],
   "source": [
    "#Calcula el límite inferior de control (LIC) utilizando la fórmula: media - (3 * desviacion)y almacena el resultado en una variable llamada lic."
   ]
  },
  {
   "cell_type": "code",
   "execution_count": 99,
   "id": "a9ea2019",
   "metadata": {},
   "outputs": [],
   "source": [
    "lic= media - (3 * desviacion)"
   ]
  },
  {
   "cell_type": "code",
   "execution_count": 100,
   "id": "de477739",
   "metadata": {},
   "outputs": [
    {
     "name": "stdout",
     "output_type": "stream",
     "text": [
      "Límite inferior de control:  4.075570210372629\n"
     ]
    }
   ],
   "source": [
    "#Se Imprime\n",
    "print(\"Límite inferior de control: \", lic)"
   ]
  },
  {
   "cell_type": "code",
   "execution_count": 101,
   "id": "6e1d7a1e",
   "metadata": {},
   "outputs": [],
   "source": [
    "# Calcula el límite superior de control (LSC) utilizando la fórmula: media + (3 * desviacion) y almacena el resultado en una variable llamada lsc."
   ]
  },
  {
   "cell_type": "code",
   "execution_count": 102,
   "id": "98054d0a",
   "metadata": {},
   "outputs": [],
   "source": [
    "lsc= media + (3 * desviacion)"
   ]
  },
  {
   "cell_type": "code",
   "execution_count": 103,
   "id": "991edb82",
   "metadata": {},
   "outputs": [
    {
     "name": "stdout",
     "output_type": "stream",
     "text": [
      "Límite superior de control:  5.945109789627372\n"
     ]
    }
   ],
   "source": [
    "#Se Imprime\n",
    "print(\"Límite superior de control: \", lsc)"
   ]
  },
  {
   "cell_type": "code",
   "execution_count": 104,
   "id": "ed9fb3c2",
   "metadata": {},
   "outputs": [],
   "source": [
    "# Filtra el array utilizando np.logical_or(condicion1, condicion2) para obtener los valores fuera de los límites de control."
   ]
  },
  {
   "cell_type": "code",
   "execution_count": 108,
   "id": "18929d87",
   "metadata": {},
   "outputs": [],
   "source": [
    "valores_fuera_limite= alcohol[np.logical_or(alcohol < lic, alcohol > lsc)]"
   ]
  },
  {
   "cell_type": "code",
   "execution_count": 111,
   "id": "b60efcd7",
   "metadata": {},
   "outputs": [
    {
     "name": "stdout",
     "output_type": "stream",
     "text": [
      "Valores fuera de los límites de control:  [3.87 6.02]\n"
     ]
    }
   ],
   "source": [
    "print(\"Valores fuera de los límites de control: \", valores_fuera_limite)"
   ]
  },
  {
   "cell_type": "code",
   "execution_count": 112,
   "id": "485d1e3f",
   "metadata": {},
   "outputs": [
    {
     "name": "stdout",
     "output_type": "stream",
     "text": [
      "Cantidad de valores fuera de los límites de control:  2\n"
     ]
    }
   ],
   "source": [
    "print(\"Cantidad de valores fuera de los límites de control: \", len(valores_fuera_limite))"
   ]
  }
 ],
 "metadata": {
  "kernelspec": {
   "display_name": "Python 3 (ipykernel)",
   "language": "python",
   "name": "python3"
  },
  "language_info": {
   "codemirror_mode": {
    "name": "ipython",
    "version": 3
   },
   "file_extension": ".py",
   "mimetype": "text/x-python",
   "name": "python",
   "nbconvert_exporter": "python",
   "pygments_lexer": "ipython3",
   "version": "3.11.4"
  }
 },
 "nbformat": 4,
 "nbformat_minor": 5
}
